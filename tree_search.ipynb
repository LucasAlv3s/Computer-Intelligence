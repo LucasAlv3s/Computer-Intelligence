{
  "nbformat": 4,
  "nbformat_minor": 0,
  "metadata": {
    "colab": {
      "name": "tree_search.ipynb",
      "provenance": []
    },
    "kernelspec": {
      "name": "python3",
      "display_name": "Python 3"
    },
    "language_info": {
      "name": "python"
    }
  },
  "cells": [
    {
      "cell_type": "code",
      "metadata": {
        "colab": {
          "base_uri": "https://localhost:8080/"
        },
        "id": "6A8j_NL9wRhb",
        "outputId": "b2d8efda-6722-4709-bf55-9e17b751f783"
      },
      "source": [
        "class TreeNode:\n",
        "  def __init__(self, x):\n",
        "    self.value = x\n",
        "    self.left = None\n",
        "    self.rigth = None\n",
        "\n",
        "def closest_value(tree, target):\n",
        "  node_value = tree.value\n",
        "  if target < node_value:\n",
        "    node = tree.left\n",
        "  else:\n",
        "    node = tree.rigth\n",
        "  if not node:\n",
        "    return node_value\n",
        "  closest_key = closest_value(node, target)\n",
        "  return min((node_value, closest_key), key=lambda x: abs(target-x)) \n",
        "\n",
        "if __name__ == '__main__':\n",
        "  tree = TreeNode(8)\n",
        "  tree.left = TreeNode(5)\n",
        "  tree.rigth = TreeNode(14)\n",
        "  tree.left.left = TreeNode(4)\n",
        "  tree.left.rigth = TreeNode(6)\n",
        "  tree.left.rigth.left = TreeNode(3)\n",
        "  tree.left.rigth.rigth = TreeNode(7)\n",
        "  tree.rigth.rigth = TreeNode(24)\n",
        "  tree.rigth.rigth.left = TreeNode(22)\n",
        "\n",
        "  result = closest_value(tree, 23)\n",
        "  result_2 = closest_value(tree, 2)\n",
        "  print(result)\n",
        "  print(result_2)"
      ],
      "execution_count": null,
      "outputs": [
        {
          "output_type": "stream",
          "name": "stdout",
          "text": [
            "24\n",
            "4\n"
          ]
        }
      ]
    },
    {
      "cell_type": "code",
      "metadata": {
        "id": "TVLxJ_HA3inS"
      },
      "source": [
        ""
      ],
      "execution_count": null,
      "outputs": []
    }
  ]
}