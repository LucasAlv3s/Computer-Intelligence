{
  "nbformat": 4,
  "nbformat_minor": 0,
  "metadata": {
    "colab": {
      "name": "Lucas Alves - KnightsGraph.ipynb",
      "provenance": []
    },
    "kernelspec": {
      "name": "python3",
      "display_name": "Python 3"
    },
    "language_info": {
      "name": "python"
    }
  },
  "cells": [
    {
      "cell_type": "code",
      "metadata": {
        "colab": {
          "base_uri": "https://localhost:8080/"
        },
        "id": "YQoaq8u5sXSB",
        "outputId": "18500bef-2cba-46db-b525-ca0f80516f9f"
      },
      "source": [
        "!pip install pythonds\n",
        "!pip install python-igraph==0.8.2\n",
        "!pip install cairocffi\n",
        "!pip install pycairo"
      ],
      "execution_count": null,
      "outputs": [
        {
          "output_type": "stream",
          "name": "stdout",
          "text": [
            "Collecting pythonds\n",
            "  Downloading pythonds-1.2.1-py3-none-any.whl (14 kB)\n",
            "Installing collected packages: pythonds\n",
            "Successfully installed pythonds-1.2.1\n",
            "Collecting python-igraph==0.8.2\n",
            "  Downloading python_igraph-0.8.2-cp37-cp37m-manylinux2010_x86_64.whl (3.2 MB)\n",
            "\u001b[K     |████████████████████████████████| 3.2 MB 5.0 MB/s \n",
            "\u001b[?25hCollecting texttable>=1.6.2\n",
            "  Downloading texttable-1.6.4-py2.py3-none-any.whl (10 kB)\n",
            "Installing collected packages: texttable, python-igraph\n",
            "Successfully installed python-igraph-0.8.2 texttable-1.6.4\n",
            "Collecting cairocffi\n",
            "  Downloading cairocffi-1.2.0.tar.gz (70 kB)\n",
            "\u001b[K     |████████████████████████████████| 70 kB 3.7 MB/s \n",
            "\u001b[?25hRequirement already satisfied: cffi>=1.1.0 in /usr/local/lib/python3.7/dist-packages (from cairocffi) (1.14.6)\n",
            "Requirement already satisfied: pycparser in /usr/local/lib/python3.7/dist-packages (from cffi>=1.1.0->cairocffi) (2.20)\n",
            "Building wheels for collected packages: cairocffi\n",
            "  Building wheel for cairocffi (setup.py) ... \u001b[?25l\u001b[?25hdone\n",
            "  Created wheel for cairocffi: filename=cairocffi-1.2.0-py3-none-any.whl size=89562 sha256=eb5c8bb114e5778333ebb890e60da697f202e8cce64246b0278a5e628cc2f98d\n",
            "  Stored in directory: /root/.cache/pip/wheels/e2/ca/86/9db2824f203afe4bdf5aa6ead017f352fcc90e92f095b78871\n",
            "Successfully built cairocffi\n",
            "Installing collected packages: cairocffi\n",
            "Successfully installed cairocffi-1.2.0\n",
            "Collecting pycairo\n",
            "  Downloading pycairo-1.20.1.tar.gz (344 kB)\n",
            "\u001b[K     |████████████████████████████████| 344 kB 5.1 MB/s \n",
            "\u001b[?25h  Installing build dependencies ... \u001b[?25l\u001b[?25hdone\n",
            "  Getting requirements to build wheel ... \u001b[?25l\u001b[?25hdone\n",
            "    Preparing wheel metadata ... \u001b[?25l\u001b[?25hdone\n",
            "Building wheels for collected packages: pycairo\n",
            "  Building wheel for pycairo (PEP 517) ... \u001b[?25l\u001b[?25herror\n",
            "\u001b[31m  ERROR: Failed building wheel for pycairo\u001b[0m\n",
            "Failed to build pycairo\n",
            "\u001b[31mERROR: Could not build wheels for pycairo which use PEP 517 and cannot be installed directly\u001b[0m\n"
          ]
        }
      ]
    },
    {
      "cell_type": "code",
      "metadata": {
        "colab": {
          "base_uri": "https://localhost:8080/",
          "height": 821
        },
        "id": "lV0WPUGKsFAk",
        "outputId": "6697c776-fbb3-409f-b901-ee76b4ac57c9"
      },
      "source": [
        "#from pythonds.graphs import Graph\n",
        "from igraph import *\n",
        "\n",
        "def knightGraphIgraph(bdSize):\n",
        "  cn = Graph()\n",
        "  perm = []\n",
        "  for row in range(bdSize):\n",
        "    for col in range(bdSize):\n",
        "      nodeId = posToNodeId(row, col, bdSize)\n",
        "      nodeId = str(nodeId)\n",
        "      newPositions = genLegalMoves(row, col, bdSize)\n",
        "      if nodeId not in perm:\n",
        "        cn.add_vertices(nodeId)\n",
        "        perm.append(nodeId)\n",
        "      for e in newPositions:\n",
        "        nid = posToNodeId(e[0], e[1], bdSize)\n",
        "        nid = str(nid)\n",
        "        if nid not in perm:\n",
        "          cn.add_vertices(nid)\n",
        "          perm.append(nid)\n",
        "        cn.add_edges([(nodeId,nid)])\n",
        "\n",
        "    return cn\n",
        "    \n",
        "\n",
        "def posToNodeId(row, column, board_size):\n",
        "    return (row * board_size) + column\n",
        "\n",
        "def genLegalMoves(x,y,bdSize):\n",
        "    newMoves = []\n",
        "    moveOffsets = [(-1,-2),(-1,2),(-2,-1),(-2,1),\n",
        "                   ( 1,-2),( 1,2),( 2,-1),( 2,1)]\n",
        "    for i in moveOffsets:\n",
        "        newX = x + i[0]\n",
        "        newY = y + i[1]\n",
        "        if legalCoord(newX,bdSize) and \\\n",
        "                        legalCoord(newY,bdSize):\n",
        "            newMoves.append((newX,newY))\n",
        "    return newMoves\n",
        "\n",
        "def legalCoord(x,bdSize):\n",
        "    if x >= 0 and x < bdSize:\n",
        "        return True\n",
        "    else:\n",
        "        return \n",
        "        \n",
        "\n",
        "gra = knightGraphIgraph(8)\n",
        "layout = gra.layout(\"kk\")\n",
        "plot(gra, layout=layout)"
      ],
      "execution_count": null,
      "outputs": [
        {
          "output_type": "execute_result",
          "data": {
            "text/plain": [
              "<igraph.drawing.Plot at 0x7fe849a24cd0>"
            ],
            "image/svg+xml": "<?xml version=\"1.0\" encoding=\"UTF-8\"?>\n<svg xmlns=\"http://www.w3.org/2000/svg\" xmlns:xlink=\"http://www.w3.org/1999/xlink\" width=\"600pt\" height=\"600pt\" viewBox=\"0 0 600 600\" version=\"1.1\">\n<g id=\"surface9\">\n<rect x=\"0\" y=\"0\" width=\"600\" height=\"600\" style=\"fill:rgb(100%,100%,100%);fill-opacity:1;stroke:none;\"/>\n<path style=\"fill:none;stroke-width:1;stroke-linecap:butt;stroke-linejoin:miter;stroke:rgb(26.666667%,26.666667%,26.666667%);stroke-opacity:1;stroke-miterlimit:10;\" d=\"M 20 131.601562 L 114.285156 77.484375 \"/>\n<path style=\"fill:none;stroke-width:1;stroke-linecap:butt;stroke-linejoin:miter;stroke:rgb(26.666667%,26.666667%,26.666667%);stroke-opacity:1;stroke-miterlimit:10;\" d=\"M 20 131.601562 L 31.519531 207.566406 \"/>\n<path style=\"fill:none;stroke-width:1;stroke-linecap:butt;stroke-linejoin:miter;stroke:rgb(26.666667%,26.666667%,26.666667%);stroke-opacity:1;stroke-miterlimit:10;\" d=\"M 257.691406 574.261719 L 379.289062 580 \"/>\n<path style=\"fill:none;stroke-width:1;stroke-linecap:butt;stroke-linejoin:miter;stroke:rgb(26.666667%,26.666667%,26.666667%);stroke-opacity:1;stroke-miterlimit:10;\" d=\"M 257.691406 574.261719 L 138.9375 576.085938 \"/>\n<path style=\"fill:none;stroke-width:1;stroke-linecap:butt;stroke-linejoin:miter;stroke:rgb(26.666667%,26.666667%,26.666667%);stroke-opacity:1;stroke-miterlimit:10;\" d=\"M 257.691406 574.261719 L 250.988281 499.828125 \"/>\n<path style=\"fill:none;stroke-width:1;stroke-linecap:butt;stroke-linejoin:miter;stroke:rgb(26.666667%,26.666667%,26.666667%);stroke-opacity:1;stroke-miterlimit:10;\" d=\"M 151.152344 223.550781 L 66.597656 286.703125 \"/>\n<path style=\"fill:none;stroke-width:1;stroke-linecap:butt;stroke-linejoin:miter;stroke:rgb(26.666667%,26.666667%,26.666667%);stroke-opacity:1;stroke-miterlimit:10;\" d=\"M 151.152344 223.550781 L 282.871094 212.234375 \"/>\n<path style=\"fill:none;stroke-width:1;stroke-linecap:butt;stroke-linejoin:miter;stroke:rgb(26.666667%,26.666667%,26.666667%);stroke-opacity:1;stroke-miterlimit:10;\" d=\"M 31.519531 207.566406 L 151.152344 223.550781 \"/>\n<path style=\"fill:none;stroke-width:1;stroke-linecap:butt;stroke-linejoin:miter;stroke:rgb(26.666667%,26.666667%,26.666667%);stroke-opacity:1;stroke-miterlimit:10;\" d=\"M 151.152344 223.550781 L 178.535156 151.820312 \"/>\n<path style=\"fill:none;stroke-width:1;stroke-linecap:butt;stroke-linejoin:miter;stroke:rgb(26.666667%,26.666667%,26.666667%);stroke-opacity:1;stroke-miterlimit:10;\" d=\"M 341.199219 439.523438 L 231.71875 418.707031 \"/>\n<path style=\"fill:none;stroke-width:1;stroke-linecap:butt;stroke-linejoin:miter;stroke:rgb(26.666667%,26.666667%,26.666667%);stroke-opacity:1;stroke-miterlimit:10;\" d=\"M 341.199219 439.523438 L 449.585938 386.5 \"/>\n<path style=\"fill:none;stroke-width:1;stroke-linecap:butt;stroke-linejoin:miter;stroke:rgb(26.666667%,26.666667%,26.666667%);stroke-opacity:1;stroke-miterlimit:10;\" d=\"M 250.988281 499.828125 L 341.199219 439.523438 \"/>\n<path style=\"fill:none;stroke-width:1;stroke-linecap:butt;stroke-linejoin:miter;stroke:rgb(26.666667%,26.666667%,26.666667%);stroke-opacity:1;stroke-miterlimit:10;\" d=\"M 341.199219 439.523438 L 421.253906 481.515625 \"/>\n<path style=\"fill:none;stroke-width:1;stroke-linecap:butt;stroke-linejoin:miter;stroke:rgb(26.666667%,26.666667%,26.666667%);stroke-opacity:1;stroke-miterlimit:10;\" d=\"M 114.285156 77.484375 L 233.335938 86.136719 \"/>\n<path style=\"fill:none;stroke-width:1;stroke-linecap:butt;stroke-linejoin:miter;stroke:rgb(26.666667%,26.666667%,26.666667%);stroke-opacity:1;stroke-miterlimit:10;\" d=\"M 233.335938 86.136719 L 282.34375 20 \"/>\n<path style=\"fill:none;stroke-width:1;stroke-linecap:butt;stroke-linejoin:miter;stroke:rgb(26.666667%,26.666667%,26.666667%);stroke-opacity:1;stroke-miterlimit:10;\" d=\"M 178.535156 151.820312 L 233.335938 86.136719 \"/>\n<path style=\"fill:none;stroke-width:1;stroke-linecap:butt;stroke-linejoin:miter;stroke:rgb(26.666667%,26.666667%,26.666667%);stroke-opacity:1;stroke-miterlimit:10;\" d=\"M 233.335938 86.136719 L 354.519531 94.578125 \"/>\n<path style=\"fill:none;stroke-width:1;stroke-linecap:butt;stroke-linejoin:miter;stroke:rgb(26.666667%,26.666667%,26.666667%);stroke-opacity:1;stroke-miterlimit:10;\" d=\"M 379.289062 580 L 485.773438 529.175781 \"/>\n<path style=\"fill:none;stroke-width:1;stroke-linecap:butt;stroke-linejoin:miter;stroke:rgb(26.666667%,26.666667%,26.666667%);stroke-opacity:1;stroke-miterlimit:10;\" d=\"M 485.773438 529.175781 L 576.503906 556.632812 \"/>\n<path style=\"fill:none;stroke-width:1;stroke-linecap:butt;stroke-linejoin:miter;stroke:rgb(26.666667%,26.666667%,26.666667%);stroke-opacity:1;stroke-miterlimit:10;\" d=\"M 421.253906 481.515625 L 485.773438 529.175781 \"/>\n<path style=\"fill:none;stroke-width:1;stroke-linecap:butt;stroke-linejoin:miter;stroke:rgb(26.666667%,26.666667%,26.666667%);stroke-opacity:1;stroke-miterlimit:10;\" d=\"M 485.773438 529.175781 L 580 462.371094 \"/>\n<path style=\"fill:none;stroke-width:1;stroke-linecap:butt;stroke-linejoin:miter;stroke:rgb(26.666667%,26.666667%,26.666667%);stroke-opacity:1;stroke-miterlimit:10;\" d=\"M 282.871094 212.234375 L 394.136719 165.027344 \"/>\n<path style=\"fill:none;stroke-width:1;stroke-linecap:butt;stroke-linejoin:miter;stroke:rgb(26.666667%,26.666667%,26.666667%);stroke-opacity:1;stroke-miterlimit:10;\" d=\"M 354.519531 94.578125 L 394.136719 165.027344 \"/>\n<path style=\"fill:none;stroke-width:1;stroke-linecap:butt;stroke-linejoin:miter;stroke:rgb(26.666667%,26.666667%,26.666667%);stroke-opacity:1;stroke-miterlimit:10;\" d=\"M 394.136719 165.027344 L 511.820312 149.875 \"/>\n<path style=\"fill:none;stroke-width:1;stroke-linecap:butt;stroke-linejoin:miter;stroke:rgb(26.666667%,26.666667%,26.666667%);stroke-opacity:1;stroke-miterlimit:10;\" d=\"M 449.585938 386.5 L 569.4375 384.980469 \"/>\n<path style=\"fill:none;stroke-width:1;stroke-linecap:butt;stroke-linejoin:miter;stroke:rgb(26.666667%,26.666667%,26.666667%);stroke-opacity:1;stroke-miterlimit:10;\" d=\"M 580 462.371094 L 569.4375 384.980469 \"/>\n<path style=\"fill-rule:nonzero;fill:rgb(100%,0%,0%);fill-opacity:1;stroke-width:1;stroke-linecap:butt;stroke-linejoin:miter;stroke:rgb(0%,0%,0%);stroke-opacity:1;stroke-miterlimit:10;\" d=\"M 30 131.601562 C 30 137.125 25.523438 141.601562 20 141.601562 C 14.476562 141.601562 10 137.125 10 131.601562 C 10 126.078125 14.476562 121.601562 20 121.601562 C 25.523438 121.601562 30 126.078125 30 131.601562 \"/>\n<path style=\"fill-rule:nonzero;fill:rgb(100%,0%,0%);fill-opacity:1;stroke-width:1;stroke-linecap:butt;stroke-linejoin:miter;stroke:rgb(0%,0%,0%);stroke-opacity:1;stroke-miterlimit:10;\" d=\"M 124.285156 77.484375 C 124.285156 83.007812 119.808594 87.484375 114.285156 87.484375 C 108.761719 87.484375 104.285156 83.007812 104.285156 77.484375 C 104.285156 71.960938 108.761719 67.484375 114.285156 67.484375 C 119.808594 67.484375 124.285156 71.960938 124.285156 77.484375 \"/>\n<path style=\"fill-rule:nonzero;fill:rgb(100%,0%,0%);fill-opacity:1;stroke-width:1;stroke-linecap:butt;stroke-linejoin:miter;stroke:rgb(0%,0%,0%);stroke-opacity:1;stroke-miterlimit:10;\" d=\"M 41.519531 207.566406 C 41.519531 213.089844 37.039062 217.566406 31.519531 217.566406 C 25.996094 217.566406 21.519531 213.089844 21.519531 207.566406 C 21.519531 202.042969 25.996094 197.566406 31.519531 197.566406 C 37.039062 197.566406 41.519531 202.042969 41.519531 207.566406 \"/>\n<path style=\"fill-rule:nonzero;fill:rgb(100%,0%,0%);fill-opacity:1;stroke-width:1;stroke-linecap:butt;stroke-linejoin:miter;stroke:rgb(0%,0%,0%);stroke-opacity:1;stroke-miterlimit:10;\" d=\"M 267.691406 574.261719 C 267.691406 579.78125 263.214844 584.261719 257.691406 584.261719 C 252.167969 584.261719 247.691406 579.78125 247.691406 574.261719 C 247.691406 568.738281 252.167969 564.261719 257.691406 564.261719 C 263.214844 564.261719 267.691406 568.738281 267.691406 574.261719 \"/>\n<path style=\"fill-rule:nonzero;fill:rgb(100%,0%,0%);fill-opacity:1;stroke-width:1;stroke-linecap:butt;stroke-linejoin:miter;stroke:rgb(0%,0%,0%);stroke-opacity:1;stroke-miterlimit:10;\" d=\"M 389.289062 580 C 389.289062 585.523438 384.8125 590 379.289062 590 C 373.765625 590 369.289062 585.523438 369.289062 580 C 369.289062 574.476562 373.765625 570 379.289062 570 C 384.8125 570 389.289062 574.476562 389.289062 580 \"/>\n<path style=\"fill-rule:nonzero;fill:rgb(100%,0%,0%);fill-opacity:1;stroke-width:1;stroke-linecap:butt;stroke-linejoin:miter;stroke:rgb(0%,0%,0%);stroke-opacity:1;stroke-miterlimit:10;\" d=\"M 148.9375 576.085938 C 148.9375 581.605469 144.460938 586.085938 138.9375 586.085938 C 133.414062 586.085938 128.9375 581.605469 128.9375 576.085938 C 128.9375 570.5625 133.414062 566.085938 138.9375 566.085938 C 144.460938 566.085938 148.9375 570.5625 148.9375 576.085938 \"/>\n<path style=\"fill-rule:nonzero;fill:rgb(100%,0%,0%);fill-opacity:1;stroke-width:1;stroke-linecap:butt;stroke-linejoin:miter;stroke:rgb(0%,0%,0%);stroke-opacity:1;stroke-miterlimit:10;\" d=\"M 260.988281 499.828125 C 260.988281 505.351562 256.511719 509.828125 250.988281 509.828125 C 245.464844 509.828125 240.988281 505.351562 240.988281 499.828125 C 240.988281 494.304688 245.464844 489.828125 250.988281 489.828125 C 256.511719 489.828125 260.988281 494.304688 260.988281 499.828125 \"/>\n<path style=\"fill-rule:nonzero;fill:rgb(100%,0%,0%);fill-opacity:1;stroke-width:1;stroke-linecap:butt;stroke-linejoin:miter;stroke:rgb(0%,0%,0%);stroke-opacity:1;stroke-miterlimit:10;\" d=\"M 161.152344 223.550781 C 161.152344 229.070312 156.675781 233.550781 151.152344 233.550781 C 145.632812 233.550781 141.152344 229.070312 141.152344 223.550781 C 141.152344 218.027344 145.632812 213.550781 151.152344 213.550781 C 156.675781 213.550781 161.152344 218.027344 161.152344 223.550781 \"/>\n<path style=\"fill-rule:nonzero;fill:rgb(100%,0%,0%);fill-opacity:1;stroke-width:1;stroke-linecap:butt;stroke-linejoin:miter;stroke:rgb(0%,0%,0%);stroke-opacity:1;stroke-miterlimit:10;\" d=\"M 76.597656 286.703125 C 76.597656 292.226562 72.121094 296.703125 66.597656 296.703125 C 61.074219 296.703125 56.597656 292.226562 56.597656 286.703125 C 56.597656 281.179688 61.074219 276.703125 66.597656 276.703125 C 72.121094 276.703125 76.597656 281.179688 76.597656 286.703125 \"/>\n<path style=\"fill-rule:nonzero;fill:rgb(100%,0%,0%);fill-opacity:1;stroke-width:1;stroke-linecap:butt;stroke-linejoin:miter;stroke:rgb(0%,0%,0%);stroke-opacity:1;stroke-miterlimit:10;\" d=\"M 292.871094 212.234375 C 292.871094 217.757812 288.390625 222.234375 282.871094 222.234375 C 277.347656 222.234375 272.871094 217.757812 272.871094 212.234375 C 272.871094 206.710938 277.347656 202.234375 282.871094 202.234375 C 288.390625 202.234375 292.871094 206.710938 292.871094 212.234375 \"/>\n<path style=\"fill-rule:nonzero;fill:rgb(100%,0%,0%);fill-opacity:1;stroke-width:1;stroke-linecap:butt;stroke-linejoin:miter;stroke:rgb(0%,0%,0%);stroke-opacity:1;stroke-miterlimit:10;\" d=\"M 188.535156 151.820312 C 188.535156 157.34375 184.058594 161.820312 178.535156 161.820312 C 173.011719 161.820312 168.535156 157.34375 168.535156 151.820312 C 168.535156 146.296875 173.011719 141.820312 178.535156 141.820312 C 184.058594 141.820312 188.535156 146.296875 188.535156 151.820312 \"/>\n<path style=\"fill-rule:nonzero;fill:rgb(100%,0%,0%);fill-opacity:1;stroke-width:1;stroke-linecap:butt;stroke-linejoin:miter;stroke:rgb(0%,0%,0%);stroke-opacity:1;stroke-miterlimit:10;\" d=\"M 351.199219 439.523438 C 351.199219 445.046875 346.722656 449.523438 341.199219 449.523438 C 335.679688 449.523438 331.199219 445.046875 331.199219 439.523438 C 331.199219 434 335.679688 429.523438 341.199219 429.523438 C 346.722656 429.523438 351.199219 434 351.199219 439.523438 \"/>\n<path style=\"fill-rule:nonzero;fill:rgb(100%,0%,0%);fill-opacity:1;stroke-width:1;stroke-linecap:butt;stroke-linejoin:miter;stroke:rgb(0%,0%,0%);stroke-opacity:1;stroke-miterlimit:10;\" d=\"M 241.71875 418.707031 C 241.71875 424.230469 237.242188 428.707031 231.71875 428.707031 C 226.199219 428.707031 221.71875 424.230469 221.71875 418.707031 C 221.71875 413.183594 226.199219 408.707031 231.71875 408.707031 C 237.242188 408.707031 241.71875 413.183594 241.71875 418.707031 \"/>\n<path style=\"fill-rule:nonzero;fill:rgb(100%,0%,0%);fill-opacity:1;stroke-width:1;stroke-linecap:butt;stroke-linejoin:miter;stroke:rgb(0%,0%,0%);stroke-opacity:1;stroke-miterlimit:10;\" d=\"M 459.585938 386.5 C 459.585938 392.023438 455.105469 396.5 449.585938 396.5 C 444.0625 396.5 439.585938 392.023438 439.585938 386.5 C 439.585938 380.976562 444.0625 376.5 449.585938 376.5 C 455.105469 376.5 459.585938 380.976562 459.585938 386.5 \"/>\n<path style=\"fill-rule:nonzero;fill:rgb(100%,0%,0%);fill-opacity:1;stroke-width:1;stroke-linecap:butt;stroke-linejoin:miter;stroke:rgb(0%,0%,0%);stroke-opacity:1;stroke-miterlimit:10;\" d=\"M 431.253906 481.515625 C 431.253906 487.039062 426.777344 491.515625 421.253906 491.515625 C 415.734375 491.515625 411.253906 487.039062 411.253906 481.515625 C 411.253906 475.992188 415.734375 471.515625 421.253906 471.515625 C 426.777344 471.515625 431.253906 475.992188 431.253906 481.515625 \"/>\n<path style=\"fill-rule:nonzero;fill:rgb(100%,0%,0%);fill-opacity:1;stroke-width:1;stroke-linecap:butt;stroke-linejoin:miter;stroke:rgb(0%,0%,0%);stroke-opacity:1;stroke-miterlimit:10;\" d=\"M 243.335938 86.136719 C 243.335938 91.660156 238.859375 96.136719 233.335938 96.136719 C 227.816406 96.136719 223.335938 91.660156 223.335938 86.136719 C 223.335938 80.613281 227.816406 76.136719 233.335938 76.136719 C 238.859375 76.136719 243.335938 80.613281 243.335938 86.136719 \"/>\n<path style=\"fill-rule:nonzero;fill:rgb(100%,0%,0%);fill-opacity:1;stroke-width:1;stroke-linecap:butt;stroke-linejoin:miter;stroke:rgb(0%,0%,0%);stroke-opacity:1;stroke-miterlimit:10;\" d=\"M 292.34375 20 C 292.34375 25.523438 287.867188 30 282.34375 30 C 276.820312 30 272.34375 25.523438 272.34375 20 C 272.34375 14.476562 276.820312 10 282.34375 10 C 287.867188 10 292.34375 14.476562 292.34375 20 \"/>\n<path style=\"fill-rule:nonzero;fill:rgb(100%,0%,0%);fill-opacity:1;stroke-width:1;stroke-linecap:butt;stroke-linejoin:miter;stroke:rgb(0%,0%,0%);stroke-opacity:1;stroke-miterlimit:10;\" d=\"M 364.519531 94.578125 C 364.519531 100.101562 360.039062 104.578125 354.519531 104.578125 C 348.996094 104.578125 344.519531 100.101562 344.519531 94.578125 C 344.519531 89.054688 348.996094 84.578125 354.519531 84.578125 C 360.039062 84.578125 364.519531 89.054688 364.519531 94.578125 \"/>\n<path style=\"fill-rule:nonzero;fill:rgb(100%,0%,0%);fill-opacity:1;stroke-width:1;stroke-linecap:butt;stroke-linejoin:miter;stroke:rgb(0%,0%,0%);stroke-opacity:1;stroke-miterlimit:10;\" d=\"M 495.773438 529.175781 C 495.773438 534.699219 491.296875 539.175781 485.773438 539.175781 C 480.25 539.175781 475.773438 534.699219 475.773438 529.175781 C 475.773438 523.65625 480.25 519.175781 485.773438 519.175781 C 491.296875 519.175781 495.773438 523.65625 495.773438 529.175781 \"/>\n<path style=\"fill-rule:nonzero;fill:rgb(100%,0%,0%);fill-opacity:1;stroke-width:1;stroke-linecap:butt;stroke-linejoin:miter;stroke:rgb(0%,0%,0%);stroke-opacity:1;stroke-miterlimit:10;\" d=\"M 586.503906 556.632812 C 586.503906 562.15625 582.023438 566.632812 576.503906 566.632812 C 570.980469 566.632812 566.503906 562.15625 566.503906 556.632812 C 566.503906 551.109375 570.980469 546.632812 576.503906 546.632812 C 582.023438 546.632812 586.503906 551.109375 586.503906 556.632812 \"/>\n<path style=\"fill-rule:nonzero;fill:rgb(100%,0%,0%);fill-opacity:1;stroke-width:1;stroke-linecap:butt;stroke-linejoin:miter;stroke:rgb(0%,0%,0%);stroke-opacity:1;stroke-miterlimit:10;\" d=\"M 590 462.371094 C 590 467.894531 585.523438 472.371094 580 472.371094 C 574.476562 472.371094 570 467.894531 570 462.371094 C 570 456.847656 574.476562 452.371094 580 452.371094 C 585.523438 452.371094 590 456.847656 590 462.371094 \"/>\n<path style=\"fill-rule:nonzero;fill:rgb(100%,0%,0%);fill-opacity:1;stroke-width:1;stroke-linecap:butt;stroke-linejoin:miter;stroke:rgb(0%,0%,0%);stroke-opacity:1;stroke-miterlimit:10;\" d=\"M 404.136719 165.027344 C 404.136719 170.550781 399.65625 175.027344 394.136719 175.027344 C 388.613281 175.027344 384.136719 170.550781 384.136719 165.027344 C 384.136719 159.503906 388.613281 155.027344 394.136719 155.027344 C 399.65625 155.027344 404.136719 159.503906 404.136719 165.027344 \"/>\n<path style=\"fill-rule:nonzero;fill:rgb(100%,0%,0%);fill-opacity:1;stroke-width:1;stroke-linecap:butt;stroke-linejoin:miter;stroke:rgb(0%,0%,0%);stroke-opacity:1;stroke-miterlimit:10;\" d=\"M 521.820312 149.875 C 521.820312 155.398438 517.34375 159.875 511.820312 159.875 C 506.296875 159.875 501.820312 155.398438 501.820312 149.875 C 501.820312 144.351562 506.296875 139.875 511.820312 139.875 C 517.34375 139.875 521.820312 144.351562 521.820312 149.875 \"/>\n<path style=\"fill-rule:nonzero;fill:rgb(100%,0%,0%);fill-opacity:1;stroke-width:1;stroke-linecap:butt;stroke-linejoin:miter;stroke:rgb(0%,0%,0%);stroke-opacity:1;stroke-miterlimit:10;\" d=\"M 579.4375 384.980469 C 579.4375 390.503906 574.960938 394.980469 569.4375 394.980469 C 563.914062 394.980469 559.4375 390.503906 559.4375 384.980469 C 559.4375 379.457031 563.914062 374.980469 569.4375 374.980469 C 574.960938 374.980469 579.4375 379.457031 579.4375 384.980469 \"/>\n</g>\n</svg>\n"
          },
          "metadata": {
            "image/svg+xml": {
              "isolated": true
            }
          },
          "execution_count": 4
        }
      ]
    },
    {
      "cell_type": "code",
      "metadata": {
        "id": "jaZl-vFOyB5p",
        "colab": {
          "base_uri": "https://localhost:8080/"
        },
        "outputId": "9b158a8a-b0ce-4163-a531-eb29dd9d733b"
      },
      "source": [
        "print(gra.get_adjacency())"
      ],
      "execution_count": null,
      "outputs": [
        {
          "output_type": "stream",
          "name": "stdout",
          "text": [
            "[[0, 1, 1, 0, 0, 0, 0, 0, 0, 0, 0, 0, 0, 0, 0, 0, 0, 0, 0, 0, 0, 0, 0, 0]\n",
            " [1, 0, 0, 0, 0, 0, 0, 0, 0, 0, 0, 0, 0, 0, 0, 1, 0, 0, 0, 0, 0, 0, 0, 0]\n",
            " [1, 0, 0, 0, 0, 0, 0, 1, 0, 0, 0, 0, 0, 0, 0, 0, 0, 0, 0, 0, 0, 0, 0, 0]\n",
            " [0, 0, 0, 0, 1, 1, 1, 0, 0, 0, 0, 0, 0, 0, 0, 0, 0, 0, 0, 0, 0, 0, 0, 0]\n",
            " [0, 0, 0, 1, 0, 0, 0, 0, 0, 0, 0, 0, 0, 0, 0, 0, 0, 0, 1, 0, 0, 0, 0, 0]\n",
            " [0, 0, 0, 1, 0, 0, 0, 0, 0, 0, 0, 0, 0, 0, 0, 0, 0, 0, 0, 0, 0, 0, 0, 0]\n",
            " [0, 0, 0, 1, 0, 0, 0, 0, 0, 0, 0, 1, 0, 0, 0, 0, 0, 0, 0, 0, 0, 0, 0, 0]\n",
            " [0, 0, 1, 0, 0, 0, 0, 0, 1, 1, 1, 0, 0, 0, 0, 0, 0, 0, 0, 0, 0, 0, 0, 0]\n",
            " [0, 0, 0, 0, 0, 0, 0, 1, 0, 0, 0, 0, 0, 0, 0, 0, 0, 0, 0, 0, 0, 0, 0, 0]\n",
            " [0, 0, 0, 0, 0, 0, 0, 1, 0, 0, 0, 0, 0, 0, 0, 0, 0, 0, 0, 0, 0, 1, 0, 0]\n",
            " [0, 0, 0, 0, 0, 0, 0, 1, 0, 0, 0, 0, 0, 0, 0, 1, 0, 0, 0, 0, 0, 0, 0, 0]\n",
            " [0, 0, 0, 0, 0, 0, 1, 0, 0, 0, 0, 0, 1, 1, 1, 0, 0, 0, 0, 0, 0, 0, 0, 0]\n",
            " [0, 0, 0, 0, 0, 0, 0, 0, 0, 0, 0, 1, 0, 0, 0, 0, 0, 0, 0, 0, 0, 0, 0, 0]\n",
            " [0, 0, 0, 0, 0, 0, 0, 0, 0, 0, 0, 1, 0, 0, 0, 0, 0, 0, 0, 0, 0, 0, 0, 1]\n",
            " [0, 0, 0, 0, 0, 0, 0, 0, 0, 0, 0, 1, 0, 0, 0, 0, 0, 0, 1, 0, 0, 0, 0, 0]\n",
            " [0, 1, 0, 0, 0, 0, 0, 0, 0, 0, 1, 0, 0, 0, 0, 0, 1, 1, 0, 0, 0, 0, 0, 0]\n",
            " [0, 0, 0, 0, 0, 0, 0, 0, 0, 0, 0, 0, 0, 0, 0, 1, 0, 0, 0, 0, 0, 0, 0, 0]\n",
            " [0, 0, 0, 0, 0, 0, 0, 0, 0, 0, 0, 0, 0, 0, 0, 1, 0, 0, 0, 0, 0, 1, 0, 0]\n",
            " [0, 0, 0, 0, 1, 0, 0, 0, 0, 0, 0, 0, 0, 0, 1, 0, 0, 0, 0, 1, 1, 0, 0, 0]\n",
            " [0, 0, 0, 0, 0, 0, 0, 0, 0, 0, 0, 0, 0, 0, 0, 0, 0, 0, 1, 0, 0, 0, 0, 0]\n",
            " [0, 0, 0, 0, 0, 0, 0, 0, 0, 0, 0, 0, 0, 0, 0, 0, 0, 0, 1, 0, 0, 0, 0, 1]\n",
            " [0, 0, 0, 0, 0, 0, 0, 0, 0, 1, 0, 0, 0, 0, 0, 0, 0, 1, 0, 0, 0, 0, 1, 0]\n",
            " [0, 0, 0, 0, 0, 0, 0, 0, 0, 0, 0, 0, 0, 0, 0, 0, 0, 0, 0, 0, 0, 1, 0, 0]\n",
            " [0, 0, 0, 0, 0, 0, 0, 0, 0, 0, 0, 0, 0, 1, 0, 0, 0, 0, 0, 0, 1, 0, 0, 0]]\n"
          ]
        }
      ]
    },
    {
      "cell_type": "code",
      "metadata": {
        "id": "Bka3gw0XyrcL"
      },
      "source": [
        ""
      ],
      "execution_count": null,
      "outputs": []
    }
  ]
}